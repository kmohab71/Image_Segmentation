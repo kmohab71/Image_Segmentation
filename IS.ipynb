{
 "cells": [
  {
   "cell_type": "code",
   "execution_count": 24,
   "metadata": {},
   "outputs": [],
   "source": [
    "from sklearn.cluster import KMeans\n",
    "from sklearn.metrics import f1_score\n",
    "from sklearn.metrics import homogeneity_completeness_v_measure\n",
    "import matplotlib.image as mpimg\n",
    "import matplotlib.pyplot as plt\n",
    "import scipy.io as sio\n",
    "import numpy as np\n",
    "import cv2\n",
    "import glob\n",
    "from PIL import Image\n",
    "import regex\n",
    "from sklearn.cluster import SpectralClustering\n",
    "import operator"
   ]
  },
  {
   "cell_type": "code",
   "execution_count": 2,
   "metadata": {},
   "outputs": [],
   "source": [
    "def read_images():\n",
    "    image_samples=[]\n",
    "    boundries=[]\n",
    "    segmentation_Gt=[]\n",
    "    images_list=[]\n",
    "    path= 'BSR/BSDS500/data/images/train/'\n",
    "    path_mat= 'BSR/BSDS500/data/groundTruth/train/'\n",
    "    for filename in glob.glob(path+\"*.jpg\"): \n",
    "        im=Image.open(filename) #read file name \n",
    "        img = np.array(im) # convert pil to numpy array\n",
    "        images_list.append(img) \n",
    "        image_samples.append(img.reshape(img.shape[0]*img.shape[1], 3)) # reshape to samples \n",
    "        image_number=regex.split(r'.jpg',regex.split(r'/', filename)[5])[0] # get the number of the image\n",
    "        temp= sio.loadmat(path_mat+image_number) # read boundries, groundtruth\n",
    "        boundries.append(temp['groundTruth'][0][0]['Boundaries'][0][0]) #extract boundries \n",
    "        segmentation_Gt.append(temp['groundTruth'][0][0]['Segmentation'][0][0]) #extract ground truth\n",
    "    return images_list, image_samples, boundries, segmentation_Gt"
   ]
  },
  {
   "cell_type": "code",
   "execution_count": 3,
   "metadata": {},
   "outputs": [],
   "source": [
    "def visualize(img,segmentation_Gt,boundries ,segmentation_pred):\n",
    "    m=plt.figure(1)\n",
    "    plt.imshow(img)\n",
    "    m.show()\n",
    "    \n",
    "    s=plt.figure(2)\n",
    "    plt.imshow(segmentation_Gt)\n",
    "    s.show()\n",
    "    \n",
    "    b=plt.figure(3)\n",
    "    plt.imshow(boundries)\n",
    "    b.show()\n",
    "    \n",
    "    d=plt.figure(4)\n",
    "    plt.imshow(segmentation_pred)\n",
    "    d.show()\n",
    "    "
   ]
  },
  {
   "cell_type": "code",
   "execution_count": 11,
   "metadata": {},
   "outputs": [],
   "source": [
    "def evaluate(y_pred, y_true):\n",
    "    #if (meaure==\"F_measure\"):\n",
    "    F_measure_score= f1_score(y_true, y_pred, average=None)\n",
    "    #else if(measure== \"conditional_entropy\"):\n",
    "    conditional_entropy_score= homogeneity_completeness_v_measure(y_true, y_pred)\n",
    "    #print(\"F-measure=\", F_measure_score, \"\\n conditional entropy score=\",conditional_entropy_score )\n",
    "    return F_measure_score, conditional_entropy_score"
   ]
  },
  {
   "cell_type": "code",
   "execution_count": 19,
   "metadata": {},
   "outputs": [],
   "source": [
    "k=[3,5,7,9,11]\n",
    "def K_means(X):\n",
    "    sdict=dict()\n",
    "    for i in k:\n",
    "        kmeans = KMeans(n_clusters=i, random_state=0).fit(X)\n",
    "        sdict[i]=kmeans.labels_\n",
    "   \n",
    "    return sdict"
   ]
  },
  {
   "cell_type": "code",
   "execution_count": 6,
   "metadata": {},
   "outputs": [],
   "source": [
    "def NN_cut():\n",
    "    SpectralClustering(n_clusters=5, affinity=\"nearest_neighbors\", n_neighbors=5).fit(images_list[0])     \n",
    "    return "
   ]
  },
  {
   "cell_type": "code",
   "execution_count": 7,
   "metadata": {},
   "outputs": [],
   "source": [
    "images_list,image_samples, boundries, segmentation_Gt= read_images() #read images"
   ]
  },
  {
   "cell_type": "code",
   "execution_count": null,
   "metadata": {},
   "outputs": [],
   "source": [
    "#loop through images and visualize, cluster with kmeans and normalizd_cut \n",
    "#and evaluate using F_measure and condtional entropy\n",
    "PicsNum=5\n",
    "f_measures=np.zeros((PicsNum,len(k)))\n",
    "entropy_score=np.zeros((PicsNum,len(k)))\n",
    "segmentation_pred=[]\n",
    "best_k=[]\n",
    "listOfDicts=[]\n",
    "for i in range(PicsNum):\n",
    "    counter=0\n",
    "    km=K_means(image_samples[i])\n",
    "    listOfDicts.append(km)    \n",
    "    for j in range(3,12,2):\n",
    "        y_pred=km[j]\n",
    "        y_true=segmentation_Gt[i].reshape(segmentation_Gt[i].shape[0]*segmentation_Gt[i].shape[1])\n",
    "        F_measure_score, conditional_entropy_score= evaluate(y_pred, y_true)\n",
    "        f_measures[i,counter]=np.sum(F_measure_score)\n",
    "        entropy_score[i,counter]=np.sum(conditional_entropy_score)\n",
    "        counter+=1\n",
    "    t=np.argmax(f_measures[i])\n",
    "    best_k.append((t+2)*2-1)\n",
    "    segmentation_pred.append(np.asarray(km[best_k[i]]).reshape(segmentation_Gt[i].shape[0],segmentation_Gt[i].shape[1]))\n",
    "    visualize(images_list[i],segmentation_Gt[i],boundries[i],segmentation_pred[i] )"
   ]
  },
  {
   "cell_type": "code",
   "execution_count": null,
   "metadata": {},
   "outputs": [],
   "source": []
  }
 ],
 "metadata": {
  "kernelspec": {
   "display_name": "Python 3",
   "language": "python",
   "name": "python3"
  },
  "language_info": {
   "codemirror_mode": {
    "name": "ipython",
    "version": 3
   },
   "file_extension": ".py",
   "mimetype": "text/x-python",
   "name": "python",
   "nbconvert_exporter": "python",
   "pygments_lexer": "ipython3",
   "version": "3.6.5"
  }
 },
 "nbformat": 4,
 "nbformat_minor": 2
}
